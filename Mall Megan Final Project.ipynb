{
 "cells": [
  {
   "cell_type": "markdown",
   "id": "a79907e4",
   "metadata": {},
   "source": [
    "# IMBD Movie Data "
   ]
  },
  {
   "cell_type": "markdown",
   "id": "31b342fd",
   "metadata": {},
   "source": [
    "## Introduction"
   ]
  },
  {
   "cell_type": "markdown",
   "id": "b7b381d4",
   "metadata": {},
   "source": [
    "What kinds of movies tend to do better at the box office?  This project will explore a IMBD movie dataset to see if genre, runtime, or rank has an effect on the amount of money a movie earns over the years."
   ]
  },
  {
   "cell_type": "markdown",
   "id": "069b73ab",
   "metadata": {},
   "source": [
    "For this project, we will look at IMBD movie data obtained from Kaggle (https://www.kaggle.com/machinemind/top-rated-movies-in-imdb).  The dataset is also uploaded to the GitHub repository for this project.  This dataset contains movie data for over 6300 movies.  The variables collected in this dataset that will be utilized in this project are the year, runtime, genre, rank, and gross.  This project will explore each of these variables against the gross (or profit) of each movie."
   ]
  },
  {
   "cell_type": "markdown",
   "id": "5ba9b5cd",
   "metadata": {},
   "source": [
    "## Literature Review"
   ]
  },
  {
   "cell_type": "markdown",
   "id": "bfa480c6",
   "metadata": {},
   "source": [
    "In a similar analysis, Ben Niu (sources linked at the end of this notebook) found a correlation between some genres (specifically action and adventure) and higher profits, as well as a correlation between some genres and directors.  The scope of Niu's analysis is smaller than the scope in this project (there are about 2,000 movies in Niu's article that were released between 1996-2015, and the IMDB movie dataset contains movies from 1915-2020).\n",
    "\n",
    "Another study looked at the profit vs the runtime and budget of movies.  In this study, Alan Chen found a positive correlation between a movie's budget and its profit, but there was a low correlation between runtime and profit.  The dataset for this article had a greater scope than the IMDB dataset.  This analysis looked at over 34,000 movie titles ranging from 1880's - 2010's, and contained additional information, such as budget."
   ]
  },
  {
   "cell_type": "markdown",
   "id": "47127d06",
   "metadata": {},
   "source": [
    "## Data Cleaning"
   ]
  },
  {
   "cell_type": "code",
   "execution_count": 1,
   "id": "d40dd41f",
   "metadata": {},
   "outputs": [],
   "source": [
    "import pandas as pd\n",
    "import numpy as np\n",
    "import matplotlib.pyplot as plt\n",
    "import seaborn as sns\n",
    "\n",
    "sns.set_theme(style='darkgrid')\n",
    "%matplotlib inline"
   ]
  },
  {
   "cell_type": "code",
   "execution_count": 2,
   "id": "abbe0c6e",
   "metadata": {},
   "outputs": [
    {
     "data": {
      "text/html": [
       "<div>\n",
       "<style scoped>\n",
       "    .dataframe tbody tr th:only-of-type {\n",
       "        vertical-align: middle;\n",
       "    }\n",
       "\n",
       "    .dataframe tbody tr th {\n",
       "        vertical-align: top;\n",
       "    }\n",
       "\n",
       "    .dataframe thead th {\n",
       "        text-align: right;\n",
       "    }\n",
       "</style>\n",
       "<table border=\"1\" class=\"dataframe\">\n",
       "  <thead>\n",
       "    <tr style=\"text-align: right;\">\n",
       "      <th></th>\n",
       "      <th>rank</th>\n",
       "      <th>name</th>\n",
       "      <th>year</th>\n",
       "      <th>certificate</th>\n",
       "      <th>runtime</th>\n",
       "      <th>genre</th>\n",
       "      <th>rating</th>\n",
       "      <th>story</th>\n",
       "      <th>director</th>\n",
       "      <th>cast</th>\n",
       "      <th>gross</th>\n",
       "    </tr>\n",
       "  </thead>\n",
       "  <tbody>\n",
       "    <tr>\n",
       "      <th>0</th>\n",
       "      <td>1.</td>\n",
       "      <td>The Shawshank Redemption</td>\n",
       "      <td>(1994)</td>\n",
       "      <td>A</td>\n",
       "      <td>142 min</td>\n",
       "      <td>\\nDrama</td>\n",
       "      <td>9.3</td>\n",
       "      <td>\\n    Two imprisoned men bond over a number of...</td>\n",
       "      <td>Frank Darabont</td>\n",
       "      <td>Tim Robbins, Morgan Freeman, Bob Gunton, Willi...</td>\n",
       "      <td>$28.34M</td>\n",
       "    </tr>\n",
       "    <tr>\n",
       "      <th>1</th>\n",
       "      <td>2.</td>\n",
       "      <td>The Godfather</td>\n",
       "      <td>(1972)</td>\n",
       "      <td>A</td>\n",
       "      <td>175 min</td>\n",
       "      <td>\\nCrime, Drama</td>\n",
       "      <td>9.2</td>\n",
       "      <td>\\n    The aging patriarch of an organized crim...</td>\n",
       "      <td>Francis Ford Coppola</td>\n",
       "      <td>Marlon Brando, Al Pacino, James Caan, Diane Ke...</td>\n",
       "      <td>$134.97M</td>\n",
       "    </tr>\n",
       "    <tr>\n",
       "      <th>2</th>\n",
       "      <td>3.</td>\n",
       "      <td>The Dark Knight</td>\n",
       "      <td>(2008)</td>\n",
       "      <td>UA</td>\n",
       "      <td>152 min</td>\n",
       "      <td>\\nAction, Crime, Drama</td>\n",
       "      <td>9.0</td>\n",
       "      <td>\\n    When the menace known as the Joker wreak...</td>\n",
       "      <td>Christopher Nolan</td>\n",
       "      <td>Christian Bale, Heath Ledger, Aaron Eckhart, M...</td>\n",
       "      <td>$534.86M</td>\n",
       "    </tr>\n",
       "    <tr>\n",
       "      <th>3</th>\n",
       "      <td>4.</td>\n",
       "      <td>The Godfather: Part II</td>\n",
       "      <td>(1974)</td>\n",
       "      <td>A</td>\n",
       "      <td>202 min</td>\n",
       "      <td>\\nCrime, Drama</td>\n",
       "      <td>9.0</td>\n",
       "      <td>\\n    The early life and career of Vito Corleo...</td>\n",
       "      <td>Francis Ford Coppola</td>\n",
       "      <td>Al Pacino, Robert De Niro, Robert Duvall, Dian...</td>\n",
       "      <td>$57.30M</td>\n",
       "    </tr>\n",
       "    <tr>\n",
       "      <th>4</th>\n",
       "      <td>5.</td>\n",
       "      <td>Wheels</td>\n",
       "      <td>(II) (2014)</td>\n",
       "      <td>R</td>\n",
       "      <td>115 min</td>\n",
       "      <td>\\nDrama</td>\n",
       "      <td>8.9</td>\n",
       "      <td>\\n    Two suicidal paraplegic junkies hustle t...</td>\n",
       "      <td>Tim Gagliardo</td>\n",
       "      <td>Donavon Warren, Donavon Warren, Patrick Hume, ...</td>\n",
       "      <td>NaN</td>\n",
       "    </tr>\n",
       "  </tbody>\n",
       "</table>\n",
       "</div>"
      ],
      "text/plain": [
       "  rank                      name         year certificate  runtime  \\\n",
       "0   1.  The Shawshank Redemption       (1994)           A  142 min   \n",
       "1   2.             The Godfather       (1972)           A  175 min   \n",
       "2   3.           The Dark Knight       (2008)          UA  152 min   \n",
       "3   4.    The Godfather: Part II       (1974)           A  202 min   \n",
       "4   5.                    Wheels  (II) (2014)           R  115 min   \n",
       "\n",
       "                                genre  rating  \\\n",
       "0                 \\nDrama                 9.3   \n",
       "1          \\nCrime, Drama                 9.2   \n",
       "2  \\nAction, Crime, Drama                 9.0   \n",
       "3          \\nCrime, Drama                 9.0   \n",
       "4                 \\nDrama                 8.9   \n",
       "\n",
       "                                               story              director  \\\n",
       "0  \\n    Two imprisoned men bond over a number of...        Frank Darabont   \n",
       "1  \\n    The aging patriarch of an organized crim...  Francis Ford Coppola   \n",
       "2  \\n    When the menace known as the Joker wreak...     Christopher Nolan   \n",
       "3  \\n    The early life and career of Vito Corleo...  Francis Ford Coppola   \n",
       "4  \\n    Two suicidal paraplegic junkies hustle t...         Tim Gagliardo   \n",
       "\n",
       "                                                cast     gross  \n",
       "0  Tim Robbins, Morgan Freeman, Bob Gunton, Willi...   $28.34M  \n",
       "1  Marlon Brando, Al Pacino, James Caan, Diane Ke...  $134.97M  \n",
       "2  Christian Bale, Heath Ledger, Aaron Eckhart, M...  $534.86M  \n",
       "3  Al Pacino, Robert De Niro, Robert Duvall, Dian...   $57.30M  \n",
       "4  Donavon Warren, Donavon Warren, Patrick Hume, ...       NaN  "
      ]
     },
     "execution_count": 2,
     "metadata": {},
     "output_type": "execute_result"
    }
   ],
   "source": [
    "#Load data\n",
    "movie_df = pd.read_csv('imdb_top_movies.csv', skipinitialspace=True)\n",
    "movie_df.head()"
   ]
  },
  {
   "cell_type": "code",
   "execution_count": 3,
   "id": "15d1a17b",
   "metadata": {},
   "outputs": [
    {
     "data": {
      "text/plain": [
       "rank            object\n",
       "name            object\n",
       "year            object\n",
       "certificate     object\n",
       "runtime         object\n",
       "genre           object\n",
       "rating         float64\n",
       "story           object\n",
       "director        object\n",
       "cast            object\n",
       "gross           object\n",
       "dtype: object"
      ]
     },
     "execution_count": 3,
     "metadata": {},
     "output_type": "execute_result"
    }
   ],
   "source": [
    "movie_df.dtypes"
   ]
  },
  {
   "cell_type": "code",
   "execution_count": 4,
   "id": "94e02f9d",
   "metadata": {},
   "outputs": [
    {
     "data": {
      "text/plain": [
       "rank             0\n",
       "name             0\n",
       "year             0\n",
       "certificate      0\n",
       "runtime          0\n",
       "genre            0\n",
       "rating           0\n",
       "story            0\n",
       "director         0\n",
       "cast             0\n",
       "gross          836\n",
       "dtype: int64"
      ]
     },
     "execution_count": 4,
     "metadata": {},
     "output_type": "execute_result"
    }
   ],
   "source": [
    "movie_df.isnull().sum()"
   ]
  },
  {
   "cell_type": "markdown",
   "id": "ebee8802",
   "metadata": {},
   "source": [
    "### Data Cleaning - Genres"
   ]
  },
  {
   "cell_type": "markdown",
   "id": "dc501d06",
   "metadata": {},
   "source": [
    "In order to effectively use the genres associated with each movie, we'll need to create dummy columns for each of the genres.  The genres will need to be split on the comma, and a set of the unique genres will need to be obtained (which then be turned to a list for use later).  Then dummy vectors for each genre can be added to the data base.  There is also a newline character '\\n' at the start of each movie's genre list that will also need to be removed.  \n",
    "\n",
    "While attempting to remove '\\n' from genres, a bunch of whitespace was discovered at the end of some genres.  This resulted in each genre appearing twice (once as just the genre string, and again as the genre with several spaces on the end of the string), so we also needed to clean the genres of whitespace."
   ]
  },
  {
   "cell_type": "code",
   "execution_count": 5,
   "id": "a6086218",
   "metadata": {},
   "outputs": [
    {
     "data": {
      "text/plain": [
       "['Action',\n",
       " 'Biography',\n",
       " 'Music',\n",
       " 'Musical',\n",
       " 'Thriller',\n",
       " 'Western',\n",
       " 'Fantasy',\n",
       " 'Family',\n",
       " 'Sport',\n",
       " 'Drama',\n",
       " 'Crime',\n",
       " 'Animation',\n",
       " 'Comedy',\n",
       " 'War',\n",
       " 'Mystery',\n",
       " 'Adventure',\n",
       " 'Sci-Fi',\n",
       " 'Film-Noir',\n",
       " 'Romance',\n",
       " 'Horror',\n",
       " 'History']"
      ]
     },
     "execution_count": 5,
     "metadata": {},
     "output_type": "execute_result"
    }
   ],
   "source": [
    "#remove newlines\n",
    "movie_df = movie_df.replace(r'\\n','', regex=True) \n",
    "\n",
    "#remove whitespace that was present at the end of some genres\n",
    "movie_df['genre'] = movie_df['genre'].str.replace(' ','')\n",
    "\n",
    "#movie_df.head()\n",
    "\n",
    "#obtain a list of all the genres present in the dataframe\n",
    "genre_list = list(set([y for x in movie_df['genre'] for y in x.split(',')]))\n",
    "genre_list"
   ]
  },
  {
   "cell_type": "code",
   "execution_count": 6,
   "id": "9fc6653b",
   "metadata": {},
   "outputs": [
    {
     "data": {
      "text/html": [
       "<div>\n",
       "<style scoped>\n",
       "    .dataframe tbody tr th:only-of-type {\n",
       "        vertical-align: middle;\n",
       "    }\n",
       "\n",
       "    .dataframe tbody tr th {\n",
       "        vertical-align: top;\n",
       "    }\n",
       "\n",
       "    .dataframe thead th {\n",
       "        text-align: right;\n",
       "    }\n",
       "</style>\n",
       "<table border=\"1\" class=\"dataframe\">\n",
       "  <thead>\n",
       "    <tr style=\"text-align: right;\">\n",
       "      <th></th>\n",
       "      <th>rank</th>\n",
       "      <th>name</th>\n",
       "      <th>year</th>\n",
       "      <th>certificate</th>\n",
       "      <th>runtime</th>\n",
       "      <th>genre</th>\n",
       "      <th>rating</th>\n",
       "      <th>story</th>\n",
       "      <th>director</th>\n",
       "      <th>cast</th>\n",
       "      <th>...</th>\n",
       "      <th>Horror</th>\n",
       "      <th>Music</th>\n",
       "      <th>Musical</th>\n",
       "      <th>Mystery</th>\n",
       "      <th>Romance</th>\n",
       "      <th>Sci-Fi</th>\n",
       "      <th>Sport</th>\n",
       "      <th>Thriller</th>\n",
       "      <th>War</th>\n",
       "      <th>Western</th>\n",
       "    </tr>\n",
       "  </thead>\n",
       "  <tbody>\n",
       "    <tr>\n",
       "      <th>0</th>\n",
       "      <td>1.</td>\n",
       "      <td>The Shawshank Redemption</td>\n",
       "      <td>(1994)</td>\n",
       "      <td>A</td>\n",
       "      <td>142 min</td>\n",
       "      <td>Drama</td>\n",
       "      <td>9.3</td>\n",
       "      <td>Two imprisoned men bond over a number of y...</td>\n",
       "      <td>Frank Darabont</td>\n",
       "      <td>Tim Robbins, Morgan Freeman, Bob Gunton, Willi...</td>\n",
       "      <td>...</td>\n",
       "      <td>0</td>\n",
       "      <td>0</td>\n",
       "      <td>0</td>\n",
       "      <td>0</td>\n",
       "      <td>0</td>\n",
       "      <td>0</td>\n",
       "      <td>0</td>\n",
       "      <td>0</td>\n",
       "      <td>0</td>\n",
       "      <td>0</td>\n",
       "    </tr>\n",
       "    <tr>\n",
       "      <th>1</th>\n",
       "      <td>2.</td>\n",
       "      <td>The Godfather</td>\n",
       "      <td>(1972)</td>\n",
       "      <td>A</td>\n",
       "      <td>175 min</td>\n",
       "      <td>Crime,Drama</td>\n",
       "      <td>9.2</td>\n",
       "      <td>The aging patriarch of an organized crime ...</td>\n",
       "      <td>Francis Ford Coppola</td>\n",
       "      <td>Marlon Brando, Al Pacino, James Caan, Diane Ke...</td>\n",
       "      <td>...</td>\n",
       "      <td>0</td>\n",
       "      <td>0</td>\n",
       "      <td>0</td>\n",
       "      <td>0</td>\n",
       "      <td>0</td>\n",
       "      <td>0</td>\n",
       "      <td>0</td>\n",
       "      <td>0</td>\n",
       "      <td>0</td>\n",
       "      <td>0</td>\n",
       "    </tr>\n",
       "    <tr>\n",
       "      <th>2</th>\n",
       "      <td>3.</td>\n",
       "      <td>The Dark Knight</td>\n",
       "      <td>(2008)</td>\n",
       "      <td>UA</td>\n",
       "      <td>152 min</td>\n",
       "      <td>Action,Crime,Drama</td>\n",
       "      <td>9.0</td>\n",
       "      <td>When the menace known as the Joker wreaks ...</td>\n",
       "      <td>Christopher Nolan</td>\n",
       "      <td>Christian Bale, Heath Ledger, Aaron Eckhart, M...</td>\n",
       "      <td>...</td>\n",
       "      <td>0</td>\n",
       "      <td>0</td>\n",
       "      <td>0</td>\n",
       "      <td>0</td>\n",
       "      <td>0</td>\n",
       "      <td>0</td>\n",
       "      <td>0</td>\n",
       "      <td>0</td>\n",
       "      <td>0</td>\n",
       "      <td>0</td>\n",
       "    </tr>\n",
       "    <tr>\n",
       "      <th>3</th>\n",
       "      <td>4.</td>\n",
       "      <td>The Godfather: Part II</td>\n",
       "      <td>(1974)</td>\n",
       "      <td>A</td>\n",
       "      <td>202 min</td>\n",
       "      <td>Crime,Drama</td>\n",
       "      <td>9.0</td>\n",
       "      <td>The early life and career of Vito Corleone...</td>\n",
       "      <td>Francis Ford Coppola</td>\n",
       "      <td>Al Pacino, Robert De Niro, Robert Duvall, Dian...</td>\n",
       "      <td>...</td>\n",
       "      <td>0</td>\n",
       "      <td>0</td>\n",
       "      <td>0</td>\n",
       "      <td>0</td>\n",
       "      <td>0</td>\n",
       "      <td>0</td>\n",
       "      <td>0</td>\n",
       "      <td>0</td>\n",
       "      <td>0</td>\n",
       "      <td>0</td>\n",
       "    </tr>\n",
       "    <tr>\n",
       "      <th>4</th>\n",
       "      <td>5.</td>\n",
       "      <td>Wheels</td>\n",
       "      <td>(II) (2014)</td>\n",
       "      <td>R</td>\n",
       "      <td>115 min</td>\n",
       "      <td>Drama</td>\n",
       "      <td>8.9</td>\n",
       "      <td>Two suicidal paraplegic junkies hustle the...</td>\n",
       "      <td>Tim Gagliardo</td>\n",
       "      <td>Donavon Warren, Donavon Warren, Patrick Hume, ...</td>\n",
       "      <td>...</td>\n",
       "      <td>0</td>\n",
       "      <td>0</td>\n",
       "      <td>0</td>\n",
       "      <td>0</td>\n",
       "      <td>0</td>\n",
       "      <td>0</td>\n",
       "      <td>0</td>\n",
       "      <td>0</td>\n",
       "      <td>0</td>\n",
       "      <td>0</td>\n",
       "    </tr>\n",
       "    <tr>\n",
       "      <th>...</th>\n",
       "      <td>...</td>\n",
       "      <td>...</td>\n",
       "      <td>...</td>\n",
       "      <td>...</td>\n",
       "      <td>...</td>\n",
       "      <td>...</td>\n",
       "      <td>...</td>\n",
       "      <td>...</td>\n",
       "      <td>...</td>\n",
       "      <td>...</td>\n",
       "      <td>...</td>\n",
       "      <td>...</td>\n",
       "      <td>...</td>\n",
       "      <td>...</td>\n",
       "      <td>...</td>\n",
       "      <td>...</td>\n",
       "      <td>...</td>\n",
       "      <td>...</td>\n",
       "      <td>...</td>\n",
       "      <td>...</td>\n",
       "      <td>...</td>\n",
       "    </tr>\n",
       "    <tr>\n",
       "      <th>6358</th>\n",
       "      <td>6,359.</td>\n",
       "      <td>Manos: The Hands of Fate</td>\n",
       "      <td>(1966)</td>\n",
       "      <td>70 min</td>\n",
       "      <td>70 min</td>\n",
       "      <td>Horror</td>\n",
       "      <td>1.9</td>\n",
       "      <td>A family gets lost on the road and stumble...</td>\n",
       "      <td>Harold P. Warren</td>\n",
       "      <td>Tom Neyman, John Reynolds, Diane Adelson, Haro...</td>\n",
       "      <td>...</td>\n",
       "      <td>1</td>\n",
       "      <td>0</td>\n",
       "      <td>0</td>\n",
       "      <td>0</td>\n",
       "      <td>0</td>\n",
       "      <td>0</td>\n",
       "      <td>0</td>\n",
       "      <td>0</td>\n",
       "      <td>0</td>\n",
       "      <td>0</td>\n",
       "    </tr>\n",
       "    <tr>\n",
       "      <th>6359</th>\n",
       "      <td>6,360.</td>\n",
       "      <td>Birdemic: Shock and Terror</td>\n",
       "      <td>(2010)</td>\n",
       "      <td>U</td>\n",
       "      <td>105 min</td>\n",
       "      <td>Horror,Thriller</td>\n",
       "      <td>1.8</td>\n",
       "      <td>A horde of mutated birds descends upon the...</td>\n",
       "      <td>James Nguyen</td>\n",
       "      <td>Alan Bagh, Whitney Moore, Tippi Hedren, Janae ...</td>\n",
       "      <td>...</td>\n",
       "      <td>1</td>\n",
       "      <td>0</td>\n",
       "      <td>0</td>\n",
       "      <td>0</td>\n",
       "      <td>0</td>\n",
       "      <td>0</td>\n",
       "      <td>0</td>\n",
       "      <td>1</td>\n",
       "      <td>0</td>\n",
       "      <td>0</td>\n",
       "    </tr>\n",
       "    <tr>\n",
       "      <th>6360</th>\n",
       "      <td>6,361.</td>\n",
       "      <td>Pledge This!</td>\n",
       "      <td>(2006)</td>\n",
       "      <td>R</td>\n",
       "      <td>91 min</td>\n",
       "      <td>Comedy</td>\n",
       "      <td>1.8</td>\n",
       "      <td>At South Beach University, a beautiful sor...</td>\n",
       "      <td>William Heins</td>\n",
       "      <td>Strathford Hamilton, Paris Hilton, Simon Rex, ...</td>\n",
       "      <td>...</td>\n",
       "      <td>0</td>\n",
       "      <td>0</td>\n",
       "      <td>0</td>\n",
       "      <td>0</td>\n",
       "      <td>0</td>\n",
       "      <td>0</td>\n",
       "      <td>0</td>\n",
       "      <td>0</td>\n",
       "      <td>0</td>\n",
       "      <td>0</td>\n",
       "    </tr>\n",
       "    <tr>\n",
       "      <th>6361</th>\n",
       "      <td>6,362.</td>\n",
       "      <td>Going Overboard</td>\n",
       "      <td>(1989)</td>\n",
       "      <td>99 min</td>\n",
       "      <td>99 min</td>\n",
       "      <td>Comedy</td>\n",
       "      <td>1.8</td>\n",
       "      <td>A struggling young comedian takes a menial...</td>\n",
       "      <td>Valerie Breiman</td>\n",
       "      <td>Adam Sandler, Billy Bob Thornton, Billy Zane, ...</td>\n",
       "      <td>...</td>\n",
       "      <td>0</td>\n",
       "      <td>0</td>\n",
       "      <td>0</td>\n",
       "      <td>0</td>\n",
       "      <td>0</td>\n",
       "      <td>0</td>\n",
       "      <td>0</td>\n",
       "      <td>0</td>\n",
       "      <td>0</td>\n",
       "      <td>0</td>\n",
       "    </tr>\n",
       "    <tr>\n",
       "      <th>6362</th>\n",
       "      <td>6,363.</td>\n",
       "      <td>Saving Christmas</td>\n",
       "      <td>(2014)</td>\n",
       "      <td>PG</td>\n",
       "      <td>79 min</td>\n",
       "      <td>Comedy,Family</td>\n",
       "      <td>1.4</td>\n",
       "      <td>His annual Christmas party faltering thank...</td>\n",
       "      <td>Darren Doane</td>\n",
       "      <td>Kirk Cameron, Darren Doane, Bridgette Cameron,...</td>\n",
       "      <td>...</td>\n",
       "      <td>0</td>\n",
       "      <td>0</td>\n",
       "      <td>0</td>\n",
       "      <td>0</td>\n",
       "      <td>0</td>\n",
       "      <td>0</td>\n",
       "      <td>0</td>\n",
       "      <td>0</td>\n",
       "      <td>0</td>\n",
       "      <td>0</td>\n",
       "    </tr>\n",
       "  </tbody>\n",
       "</table>\n",
       "<p>6363 rows × 32 columns</p>\n",
       "</div>"
      ],
      "text/plain": [
       "        rank                        name         year certificate  runtime  \\\n",
       "0         1.    The Shawshank Redemption       (1994)           A  142 min   \n",
       "1         2.               The Godfather       (1972)           A  175 min   \n",
       "2         3.             The Dark Knight       (2008)          UA  152 min   \n",
       "3         4.      The Godfather: Part II       (1974)           A  202 min   \n",
       "4         5.                      Wheels  (II) (2014)           R  115 min   \n",
       "...      ...                         ...          ...         ...      ...   \n",
       "6358  6,359.    Manos: The Hands of Fate       (1966)      70 min   70 min   \n",
       "6359  6,360.  Birdemic: Shock and Terror       (2010)           U  105 min   \n",
       "6360  6,361.                Pledge This!       (2006)           R   91 min   \n",
       "6361  6,362.             Going Overboard       (1989)      99 min   99 min   \n",
       "6362  6,363.            Saving Christmas       (2014)          PG   79 min   \n",
       "\n",
       "                   genre  rating  \\\n",
       "0                  Drama     9.3   \n",
       "1            Crime,Drama     9.2   \n",
       "2     Action,Crime,Drama     9.0   \n",
       "3            Crime,Drama     9.0   \n",
       "4                  Drama     8.9   \n",
       "...                  ...     ...   \n",
       "6358              Horror     1.9   \n",
       "6359     Horror,Thriller     1.8   \n",
       "6360              Comedy     1.8   \n",
       "6361              Comedy     1.8   \n",
       "6362       Comedy,Family     1.4   \n",
       "\n",
       "                                                  story              director  \\\n",
       "0         Two imprisoned men bond over a number of y...        Frank Darabont   \n",
       "1         The aging patriarch of an organized crime ...  Francis Ford Coppola   \n",
       "2         When the menace known as the Joker wreaks ...     Christopher Nolan   \n",
       "3         The early life and career of Vito Corleone...  Francis Ford Coppola   \n",
       "4         Two suicidal paraplegic junkies hustle the...         Tim Gagliardo   \n",
       "...                                                 ...                   ...   \n",
       "6358      A family gets lost on the road and stumble...      Harold P. Warren   \n",
       "6359      A horde of mutated birds descends upon the...          James Nguyen   \n",
       "6360      At South Beach University, a beautiful sor...         William Heins   \n",
       "6361      A struggling young comedian takes a menial...       Valerie Breiman   \n",
       "6362      His annual Christmas party faltering thank...          Darren Doane   \n",
       "\n",
       "                                                   cast  ... Horror  Music  \\\n",
       "0     Tim Robbins, Morgan Freeman, Bob Gunton, Willi...  ...      0      0   \n",
       "1     Marlon Brando, Al Pacino, James Caan, Diane Ke...  ...      0      0   \n",
       "2     Christian Bale, Heath Ledger, Aaron Eckhart, M...  ...      0      0   \n",
       "3     Al Pacino, Robert De Niro, Robert Duvall, Dian...  ...      0      0   \n",
       "4     Donavon Warren, Donavon Warren, Patrick Hume, ...  ...      0      0   \n",
       "...                                                 ...  ...    ...    ...   \n",
       "6358  Tom Neyman, John Reynolds, Diane Adelson, Haro...  ...      1      0   \n",
       "6359  Alan Bagh, Whitney Moore, Tippi Hedren, Janae ...  ...      1      0   \n",
       "6360  Strathford Hamilton, Paris Hilton, Simon Rex, ...  ...      0      0   \n",
       "6361  Adam Sandler, Billy Bob Thornton, Billy Zane, ...  ...      0      0   \n",
       "6362  Kirk Cameron, Darren Doane, Bridgette Cameron,...  ...      0      0   \n",
       "\n",
       "      Musical  Mystery  Romance  Sci-Fi  Sport  Thriller  War  Western  \n",
       "0           0        0        0       0      0         0    0        0  \n",
       "1           0        0        0       0      0         0    0        0  \n",
       "2           0        0        0       0      0         0    0        0  \n",
       "3           0        0        0       0      0         0    0        0  \n",
       "4           0        0        0       0      0         0    0        0  \n",
       "...       ...      ...      ...     ...    ...       ...  ...      ...  \n",
       "6358        0        0        0       0      0         0    0        0  \n",
       "6359        0        0        0       0      0         1    0        0  \n",
       "6360        0        0        0       0      0         0    0        0  \n",
       "6361        0        0        0       0      0         0    0        0  \n",
       "6362        0        0        0       0      0         0    0        0  \n",
       "\n",
       "[6363 rows x 32 columns]"
      ]
     },
     "execution_count": 6,
     "metadata": {},
     "output_type": "execute_result"
    }
   ],
   "source": [
    "#get dummy vectors for the genres\n",
    "movie_df = pd.concat([movie_df,movie_df['genre'].str.get_dummies(sep=',')],axis=1);movie_df"
   ]
  },
  {
   "cell_type": "markdown",
   "id": "134e1ea9",
   "metadata": {},
   "source": [
    "### Data Cleaning - Numerical Values"
   ]
  },
  {
   "cell_type": "markdown",
   "id": "70d9ed8e",
   "metadata": {},
   "source": [
    "The year, runtime, rank, and gross columns will be used in this analysis, and they will need to be typed as either an int or a float to be used in this analysis, not their current type of object.  \n",
    "\n",
    "Before the types can be changed, characters other than numbers will need to be stripped from the data.  The years in the 'year' column are surrounded by parantheses, the runtimes in the 'runtime' column are followed by 'min', and the value in the 'gross' column are in the format '$5.8M', so we'll want to drop the dollar symbol and the M.\n",
    "\n",
    "When cleaning the years of the parantheses, I found some that had additional information in the year column (for example, the movie \"Wheels\" had a year value of \"(II)(2014)\"), so the code to strip out the year had to take that into account."
   ]
  },
  {
   "cell_type": "code",
   "execution_count": 7,
   "id": "23503b18",
   "metadata": {},
   "outputs": [],
   "source": [
    "#remove the parentheses from the year (and a little bit of extra text that was in some.)\n",
    "movie_df['year'] = movie_df['year'].str.extract('\\((\\d{4})\\)', expand = False)"
   ]
  },
  {
   "cell_type": "code",
   "execution_count": 8,
   "id": "dd2b05a5",
   "metadata": {},
   "outputs": [],
   "source": [
    "#clean runtime and gross so that all that remains is the number (which represents minutes and millions USD, respectively)\n",
    "movie_df['runtime'] = movie_df['runtime'].str.extract('([0-9]+)', expand = False)\n",
    "movie_df['gross'] = movie_df['gross'].str.extract('([0-9]+)', expand = False)\n",
    "\n",
    "#update the titles with units since they were removed from the indiviual values\n",
    "movie_df = movie_df.rename(columns={'gross':'gross (in millions)', 'runtime':'runtime (in minutes)'})"
   ]
  },
  {
   "cell_type": "code",
   "execution_count": 9,
   "id": "5a9e8f2f",
   "metadata": {},
   "outputs": [
    {
     "data": {
      "text/html": [
       "<div>\n",
       "<style scoped>\n",
       "    .dataframe tbody tr th:only-of-type {\n",
       "        vertical-align: middle;\n",
       "    }\n",
       "\n",
       "    .dataframe tbody tr th {\n",
       "        vertical-align: top;\n",
       "    }\n",
       "\n",
       "    .dataframe thead th {\n",
       "        text-align: right;\n",
       "    }\n",
       "</style>\n",
       "<table border=\"1\" class=\"dataframe\">\n",
       "  <thead>\n",
       "    <tr style=\"text-align: right;\">\n",
       "      <th></th>\n",
       "      <th>rank</th>\n",
       "      <th>name</th>\n",
       "      <th>year</th>\n",
       "      <th>certificate</th>\n",
       "      <th>runtime (in minutes)</th>\n",
       "      <th>genre</th>\n",
       "      <th>rating</th>\n",
       "      <th>story</th>\n",
       "      <th>director</th>\n",
       "      <th>cast</th>\n",
       "      <th>...</th>\n",
       "      <th>Horror</th>\n",
       "      <th>Music</th>\n",
       "      <th>Musical</th>\n",
       "      <th>Mystery</th>\n",
       "      <th>Romance</th>\n",
       "      <th>Sci-Fi</th>\n",
       "      <th>Sport</th>\n",
       "      <th>Thriller</th>\n",
       "      <th>War</th>\n",
       "      <th>Western</th>\n",
       "    </tr>\n",
       "  </thead>\n",
       "  <tbody>\n",
       "    <tr>\n",
       "      <th>0</th>\n",
       "      <td>1.</td>\n",
       "      <td>The Shawshank Redemption</td>\n",
       "      <td>1994</td>\n",
       "      <td>A</td>\n",
       "      <td>142</td>\n",
       "      <td>Drama</td>\n",
       "      <td>9.3</td>\n",
       "      <td>Two imprisoned men bond over a number of y...</td>\n",
       "      <td>Frank Darabont</td>\n",
       "      <td>Tim Robbins, Morgan Freeman, Bob Gunton, Willi...</td>\n",
       "      <td>...</td>\n",
       "      <td>0</td>\n",
       "      <td>0</td>\n",
       "      <td>0</td>\n",
       "      <td>0</td>\n",
       "      <td>0</td>\n",
       "      <td>0</td>\n",
       "      <td>0</td>\n",
       "      <td>0</td>\n",
       "      <td>0</td>\n",
       "      <td>0</td>\n",
       "    </tr>\n",
       "    <tr>\n",
       "      <th>1</th>\n",
       "      <td>2.</td>\n",
       "      <td>The Godfather</td>\n",
       "      <td>1972</td>\n",
       "      <td>A</td>\n",
       "      <td>175</td>\n",
       "      <td>Crime,Drama</td>\n",
       "      <td>9.2</td>\n",
       "      <td>The aging patriarch of an organized crime ...</td>\n",
       "      <td>Francis Ford Coppola</td>\n",
       "      <td>Marlon Brando, Al Pacino, James Caan, Diane Ke...</td>\n",
       "      <td>...</td>\n",
       "      <td>0</td>\n",
       "      <td>0</td>\n",
       "      <td>0</td>\n",
       "      <td>0</td>\n",
       "      <td>0</td>\n",
       "      <td>0</td>\n",
       "      <td>0</td>\n",
       "      <td>0</td>\n",
       "      <td>0</td>\n",
       "      <td>0</td>\n",
       "    </tr>\n",
       "    <tr>\n",
       "      <th>2</th>\n",
       "      <td>3.</td>\n",
       "      <td>The Dark Knight</td>\n",
       "      <td>2008</td>\n",
       "      <td>UA</td>\n",
       "      <td>152</td>\n",
       "      <td>Action,Crime,Drama</td>\n",
       "      <td>9.0</td>\n",
       "      <td>When the menace known as the Joker wreaks ...</td>\n",
       "      <td>Christopher Nolan</td>\n",
       "      <td>Christian Bale, Heath Ledger, Aaron Eckhart, M...</td>\n",
       "      <td>...</td>\n",
       "      <td>0</td>\n",
       "      <td>0</td>\n",
       "      <td>0</td>\n",
       "      <td>0</td>\n",
       "      <td>0</td>\n",
       "      <td>0</td>\n",
       "      <td>0</td>\n",
       "      <td>0</td>\n",
       "      <td>0</td>\n",
       "      <td>0</td>\n",
       "    </tr>\n",
       "    <tr>\n",
       "      <th>3</th>\n",
       "      <td>4.</td>\n",
       "      <td>The Godfather: Part II</td>\n",
       "      <td>1974</td>\n",
       "      <td>A</td>\n",
       "      <td>202</td>\n",
       "      <td>Crime,Drama</td>\n",
       "      <td>9.0</td>\n",
       "      <td>The early life and career of Vito Corleone...</td>\n",
       "      <td>Francis Ford Coppola</td>\n",
       "      <td>Al Pacino, Robert De Niro, Robert Duvall, Dian...</td>\n",
       "      <td>...</td>\n",
       "      <td>0</td>\n",
       "      <td>0</td>\n",
       "      <td>0</td>\n",
       "      <td>0</td>\n",
       "      <td>0</td>\n",
       "      <td>0</td>\n",
       "      <td>0</td>\n",
       "      <td>0</td>\n",
       "      <td>0</td>\n",
       "      <td>0</td>\n",
       "    </tr>\n",
       "    <tr>\n",
       "      <th>4</th>\n",
       "      <td>5.</td>\n",
       "      <td>Wheels</td>\n",
       "      <td>2014</td>\n",
       "      <td>R</td>\n",
       "      <td>115</td>\n",
       "      <td>Drama</td>\n",
       "      <td>8.9</td>\n",
       "      <td>Two suicidal paraplegic junkies hustle the...</td>\n",
       "      <td>Tim Gagliardo</td>\n",
       "      <td>Donavon Warren, Donavon Warren, Patrick Hume, ...</td>\n",
       "      <td>...</td>\n",
       "      <td>0</td>\n",
       "      <td>0</td>\n",
       "      <td>0</td>\n",
       "      <td>0</td>\n",
       "      <td>0</td>\n",
       "      <td>0</td>\n",
       "      <td>0</td>\n",
       "      <td>0</td>\n",
       "      <td>0</td>\n",
       "      <td>0</td>\n",
       "    </tr>\n",
       "  </tbody>\n",
       "</table>\n",
       "<p>5 rows × 32 columns</p>\n",
       "</div>"
      ],
      "text/plain": [
       "  rank                      name  year certificate runtime (in minutes)  \\\n",
       "0   1.  The Shawshank Redemption  1994           A                  142   \n",
       "1   2.             The Godfather  1972           A                  175   \n",
       "2   3.           The Dark Knight  2008          UA                  152   \n",
       "3   4.    The Godfather: Part II  1974           A                  202   \n",
       "4   5.                    Wheels  2014           R                  115   \n",
       "\n",
       "                genre  rating  \\\n",
       "0               Drama     9.3   \n",
       "1         Crime,Drama     9.2   \n",
       "2  Action,Crime,Drama     9.0   \n",
       "3         Crime,Drama     9.0   \n",
       "4               Drama     8.9   \n",
       "\n",
       "                                               story              director  \\\n",
       "0      Two imprisoned men bond over a number of y...        Frank Darabont   \n",
       "1      The aging patriarch of an organized crime ...  Francis Ford Coppola   \n",
       "2      When the menace known as the Joker wreaks ...     Christopher Nolan   \n",
       "3      The early life and career of Vito Corleone...  Francis Ford Coppola   \n",
       "4      Two suicidal paraplegic junkies hustle the...         Tim Gagliardo   \n",
       "\n",
       "                                                cast  ... Horror  Music  \\\n",
       "0  Tim Robbins, Morgan Freeman, Bob Gunton, Willi...  ...      0      0   \n",
       "1  Marlon Brando, Al Pacino, James Caan, Diane Ke...  ...      0      0   \n",
       "2  Christian Bale, Heath Ledger, Aaron Eckhart, M...  ...      0      0   \n",
       "3  Al Pacino, Robert De Niro, Robert Duvall, Dian...  ...      0      0   \n",
       "4  Donavon Warren, Donavon Warren, Patrick Hume, ...  ...      0      0   \n",
       "\n",
       "   Musical  Mystery  Romance  Sci-Fi  Sport  Thriller  War  Western  \n",
       "0        0        0        0       0      0         0    0        0  \n",
       "1        0        0        0       0      0         0    0        0  \n",
       "2        0        0        0       0      0         0    0        0  \n",
       "3        0        0        0       0      0         0    0        0  \n",
       "4        0        0        0       0      0         0    0        0  \n",
       "\n",
       "[5 rows x 32 columns]"
      ]
     },
     "execution_count": 9,
     "metadata": {},
     "output_type": "execute_result"
    }
   ],
   "source": [
    "movie_df.head()"
   ]
  },
  {
   "cell_type": "markdown",
   "id": "79854e9e",
   "metadata": {},
   "source": [
    "The data types of the columns with numerical values will need to be changed in order to use them for analysis.  Year and runtime can be changed to integers.  Gross will need to be changed to a float."
   ]
  },
  {
   "cell_type": "code",
   "execution_count": 10,
   "id": "7d38907a",
   "metadata": {},
   "outputs": [
    {
     "data": {
      "text/plain": [
       "rank                    float64\n",
       "name                     object\n",
       "year                      int64\n",
       "certificate              object\n",
       "runtime (in minutes)      int64\n",
       "genre                    object\n",
       "rating                  float64\n",
       "story                    object\n",
       "director                 object\n",
       "cast                     object\n",
       "gross (in millions)     float64\n",
       "Action                    int64\n",
       "Adventure                 int64\n",
       "Animation                 int64\n",
       "Biography                 int64\n",
       "Comedy                    int64\n",
       "Crime                     int64\n",
       "Drama                     int64\n",
       "Family                    int64\n",
       "Fantasy                   int64\n",
       "Film-Noir                 int64\n",
       "History                   int64\n",
       "Horror                    int64\n",
       "Music                     int64\n",
       "Musical                   int64\n",
       "Mystery                   int64\n",
       "Romance                   int64\n",
       "Sci-Fi                    int64\n",
       "Sport                     int64\n",
       "Thriller                  int64\n",
       "War                       int64\n",
       "Western                   int64\n",
       "dtype: object"
      ]
     },
     "execution_count": 10,
     "metadata": {},
     "output_type": "execute_result"
    }
   ],
   "source": [
    "#change data types \n",
    "movie_df['rank'] = movie_df['rank'].str.replace(',', '').astype(float)\n",
    "movie_df['runtime (in minutes)'] = movie_df['runtime (in minutes)'].astype(int)\n",
    "movie_df['year'] = movie_df['year'].astype(int)\n",
    "movie_df['gross (in millions)'] = movie_df['gross (in millions)'].astype(float)\n",
    "\n",
    "movie_df.dtypes"
   ]
  },
  {
   "cell_type": "markdown",
   "id": "e85838aa",
   "metadata": {},
   "source": [
    "### Data Cleaning - Missing Values"
   ]
  },
  {
   "cell_type": "markdown",
   "id": "df39388e",
   "metadata": {},
   "source": [
    "The final step in the clean up is to deal with our missing values.  The only column that has missing values is the 'gross' column.  We have a total of 6,363 titles in this data set, and 836 titles are missing their 'gross' value."
   ]
  },
  {
   "cell_type": "code",
   "execution_count": 11,
   "id": "6d374e6a",
   "metadata": {},
   "outputs": [
    {
     "data": {
      "text/plain": [
       "rank                      0\n",
       "name                      0\n",
       "year                      0\n",
       "certificate               0\n",
       "runtime (in minutes)      0\n",
       "genre                     0\n",
       "rating                    0\n",
       "story                     0\n",
       "director                  0\n",
       "cast                      0\n",
       "gross (in millions)     836\n",
       "Action                    0\n",
       "Adventure                 0\n",
       "Animation                 0\n",
       "Biography                 0\n",
       "Comedy                    0\n",
       "Crime                     0\n",
       "Drama                     0\n",
       "Family                    0\n",
       "Fantasy                   0\n",
       "Film-Noir                 0\n",
       "History                   0\n",
       "Horror                    0\n",
       "Music                     0\n",
       "Musical                   0\n",
       "Mystery                   0\n",
       "Romance                   0\n",
       "Sci-Fi                    0\n",
       "Sport                     0\n",
       "Thriller                  0\n",
       "War                       0\n",
       "Western                   0\n",
       "dtype: int64"
      ]
     },
     "execution_count": 11,
     "metadata": {},
     "output_type": "execute_result"
    }
   ],
   "source": [
    "movie_df.isnull().sum()"
   ]
  },
  {
   "cell_type": "code",
   "execution_count": 12,
   "id": "906da1c0",
   "metadata": {},
   "outputs": [
    {
     "data": {
      "text/plain": [
       "rank                                                            2718151.0\n",
       "name                    WheelsHamiltonIt's a Wonderful LifeLion of the...\n",
       "year                                                              1667902\n",
       "certificate             R12+PG173 min88 min110 min62 minU179 min126 mi...\n",
       "runtime (in minutes)                                                85327\n",
       "genre                   DramaBiography,Drama,HistoryDrama,Family,Fanta...\n",
       "rating                                                             5381.1\n",
       "story                       Two suicidal paraplegic junkies hustle the...\n",
       "director                Tim GagliardoThomas KailFrank CapraMoustapha A...\n",
       "cast                    Donavon Warren, Donavon Warren, Patrick Hume, ...\n",
       "gross (in millions)                                                   0.0\n",
       "Action                                                                185\n",
       "Adventure                                                              90\n",
       "Animation                                                              20\n",
       "Biography                                                              53\n",
       "Comedy                                                                259\n",
       "Crime                                                                 208\n",
       "Drama                                                                 463\n",
       "Family                                                                 26\n",
       "Fantasy                                                                59\n",
       "Film-Noir                                                              32\n",
       "History                                                                24\n",
       "Horror                                                                173\n",
       "Music                                                                   4\n",
       "Musical                                                                14\n",
       "Mystery                                                               116\n",
       "Romance                                                               130\n",
       "Sci-Fi                                                                 79\n",
       "Sport                                                                   8\n",
       "Thriller                                                              185\n",
       "War                                                                    24\n",
       "Western                                                                19\n",
       "dtype: object"
      ]
     },
     "execution_count": 12,
     "metadata": {},
     "output_type": "execute_result"
    }
   ],
   "source": [
    "#take a look at the rows whose gross value is NaN\n",
    "null_df = movie_df[movie_df.isnull().any(axis=1)]\n",
    "#null_df.count()\n",
    "null_df.sum()\n",
    "#movie_df.sum()"
   ]
  },
  {
   "cell_type": "markdown",
   "id": "6905e730",
   "metadata": {},
   "source": [
    "Looking at just the rows with missing values, we can see that the movies missing their gross value are scattered across many genres.  Since gross will be looked at across a few different vales (including genre) and there are 5,527 titles with a gross value, the rows with the missing value will be removed."
   ]
  },
  {
   "cell_type": "code",
   "execution_count": 13,
   "id": "620c9bc4",
   "metadata": {},
   "outputs": [
    {
     "data": {
      "text/plain": [
       "rank                    0\n",
       "name                    0\n",
       "year                    0\n",
       "certificate             0\n",
       "runtime (in minutes)    0\n",
       "genre                   0\n",
       "rating                  0\n",
       "story                   0\n",
       "director                0\n",
       "cast                    0\n",
       "gross (in millions)     0\n",
       "Action                  0\n",
       "Adventure               0\n",
       "Animation               0\n",
       "Biography               0\n",
       "Comedy                  0\n",
       "Crime                   0\n",
       "Drama                   0\n",
       "Family                  0\n",
       "Fantasy                 0\n",
       "Film-Noir               0\n",
       "History                 0\n",
       "Horror                  0\n",
       "Music                   0\n",
       "Musical                 0\n",
       "Mystery                 0\n",
       "Romance                 0\n",
       "Sci-Fi                  0\n",
       "Sport                   0\n",
       "Thriller                0\n",
       "War                     0\n",
       "Western                 0\n",
       "dtype: int64"
      ]
     },
     "execution_count": 13,
     "metadata": {},
     "output_type": "execute_result"
    }
   ],
   "source": [
    "movie_df = movie_df.dropna(subset=['gross (in millions)'])\n",
    "movie_df.isnull().sum()"
   ]
  },
  {
   "cell_type": "markdown",
   "id": "14474bf0",
   "metadata": {},
   "source": [
    "### Data Visualization"
   ]
  },
  {
   "cell_type": "code",
   "execution_count": 14,
   "id": "236164ec",
   "metadata": {},
   "outputs": [
    {
     "data": {
      "image/png": "[encoded data removed]",
      "text/plain": [
       "<Figure size 432x288 with 1 Axes>"
      ]
     },
     "metadata": {
      "needs_background": "light"
     },
     "output_type": "display_data"
    }
   ],
   "source": [
    "plot1 = movie_df.groupby('year').mean('gross (in millions)')\n",
    "plt.bar(plot1.index, plot1['gross (in millions)'])\n",
    "plt.xlabel('year')\n",
    "plt.ylabel('average gross in millions')\n",
    "plt.title('Average Movie Gross by Year')\n",
    "plt.show()"
   ]
  },
  {
   "cell_type": "markdown",
   "id": "f9f96ea7",
   "metadata": {},
   "source": [
    "The above shows the average gross of the movies realeased in each year.  The only movie in this dataset that was released in 1937 was Disney's \"Snow White,\" and it grossed over 184 million dollars.  Since this is the only 1937 movie in this dataset that could potentially bring this year's average down, it causes the spike at 1937 above.  Therefore, I would consider it an oulier when considering trends over the years.  However, this outlier value will not be removed.  When we later look at gross values over runtime, rank, and genre, we will want this movie to be considered.\n",
    "\n",
    "In the above visualization, we can see a general upwords trend of gross over the years."
   ]
  },
  {
   "cell_type": "code",
   "execution_count": 15,
   "id": "7f9ecfe1",
   "metadata": {},
   "outputs": [
    {
     "data": {
      "text/plain": [
       "48.68445811470961"
      ]
     },
     "execution_count": 15,
     "metadata": {},
     "output_type": "execute_result"
    }
   ],
   "source": [
    "movie_df['gross (in millions)'].mean()"
   ]
  },
  {
   "cell_type": "code",
   "execution_count": 16,
   "id": "32ec226d",
   "metadata": {},
   "outputs": [
    {
     "data": {
      "image/png": "[encoded data removed]",
      "text/plain": [
       "<Figure size 432x288 with 1 Axes>"
      ]
     },
     "metadata": {
      "needs_background": "light"
     },
     "output_type": "display_data"
    }
   ],
   "source": [
    "sns.regplot(data=movie_df, x='runtime (in minutes)', y = 'gross (in millions)',line_kws={\"color\": \"red\"},scatter_kws = {'alpha' : 1/6}).set(title ='Gross by Runtime')\n",
    "plt.show()"
   ]
  },
  {
   "cell_type": "markdown",
   "id": "4c3d3a8e",
   "metadata": {},
   "source": [
    "The plot above shows the gross and runtime of each movie. We do see some clustering in the bottom portion of the plot, but this is expected since the average gross over all the movies is approximately 49 million USD.  Based on this plot, there are no relationships that can be seen between the runtime of a movie and its gross value.  "
   ]
  },
  {
   "cell_type": "code",
   "execution_count": 17,
   "id": "5a69e418",
   "metadata": {},
   "outputs": [
    {
     "data": {
      "image/png": "[encoded data removed]",
      "text/plain": [
       "<Figure size 432x288 with 1 Axes>"
      ]
     },
     "metadata": {
      "needs_background": "light"
     },
     "output_type": "display_data"
    }
   ],
   "source": [
    "#sns.scatterplot(data=movie_df, x='rank', y = 'gross (in millions)', alpha=0.3).set(title ='Gross by IMDB Rank')\n",
    "sns.regplot(data=movie_df, x='rank', y = 'gross (in millions)',line_kws={\"color\": \"red\"},scatter_kws = {'alpha' : 1/6}).set(title ='Gross by IMDB Rank')\n",
    "plt.show()"
   ]
  },
  {
   "cell_type": "markdown",
   "id": "f63d44d5",
   "metadata": {},
   "source": [
    "The above shows the relationship between a movie's gross and its rank on IMDB.  While the highest grossing movies were ranked towards the top, there is seemingly no correlation in the overall dataset when it comes to these two variables.  "
   ]
  },
  {
   "cell_type": "code",
   "execution_count": 18,
   "id": "9c3605ab",
   "metadata": {},
   "outputs": [
    {
     "data": {
      "image/png": "[encoded data removed]",
      "text/plain": [
       "<Figure size 432x288 with 1 Axes>"
      ]
     },
     "metadata": {
      "needs_background": "light"
     },
     "output_type": "display_data"
    }
   ],
   "source": [
    "plot3 = pd.DataFrame(columns=['Genre','gross'])\n",
    "for genre in genre_list:\n",
    "    num = movie_df[genre].sum()\n",
    "    temp = movie_df.loc[movie_df[genre]==1]\n",
    "    profits = temp['gross (in millions)'].mean()\n",
    "    plot3 = plot3.append({'Genre':genre, 'gross':profits}, ignore_index=True)\n",
    "\n",
    "\n",
    "plt.bar(plot3['Genre'],plot3['gross'])\n",
    "plt.xlabel('Genre')\n",
    "plt.ylabel('Average Gross (in millions)')\n",
    "plt.title('Average Movie Gross by Genre')\n",
    "plt.xticks(rotation=90)\n",
    "plt.show()\n",
    "    "
   ]
  },
  {
   "cell_type": "markdown",
   "id": "a37279ac",
   "metadata": {},
   "source": [
    "The above charts the average gross based on movie genre.  We can see that the animation and adventure genres have the highest grossing values, while there appears to be very little box office success when it comes to the film-noir genre.  We can also see that the majority of the movie genres had an average gross of well under the overall average ($49M). Based on this dataset, if an aspiring director wanted their best shot at a blockbuster movie, they should consider directing something in the Adventure, Action, Family, Mystery, Fantasy, or Animation genres (although, personally, I consider animation to be less of a genre and more of a medium). "
   ]
  },
  {
   "cell_type": "markdown",
   "id": "9a10b374",
   "metadata": {},
   "source": [
    "## Sources"
   ]
  },
  {
   "cell_type": "markdown",
   "id": "481db2d4",
   "metadata": {},
   "source": [
    "Chen, Andy, \"A Statistical Analysis of Gross Revenue in Movie Industry,\" http://www.ijbmer.com/docs/volumes/vol9issue3/ijbmer2018090303.pdf. \n",
    "\n",
    "Niu Ben, \"Movie Genre and Profits: Which factors lead to a more profitable movie,\" https://medium.com/@ordosnb/movie-genre-and-profits-913a3142a0fb.\n",
    "\n"
   ]
  }
 ],
 "metadata": {
  "kernelspec": {
   "display_name": "Python 3 (ipykernel)",
   "language": "python",
   "name": "python3"
  },
  "language_info": {
   "codemirror_mode": {
    "name": "ipython",
    "version": 3
   },
   "file_extension": ".py",
   "mimetype": "text/x-python",
   "name": "python",
   "nbconvert_exporter": "python",
   "pygments_lexer": "ipython3",
   "version": "3.8.10"
  }
 },
 "nbformat": 4,
 "nbformat_minor": 5
}
